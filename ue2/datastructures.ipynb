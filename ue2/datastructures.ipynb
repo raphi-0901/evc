{
 "cells": [
  {
   "cell_type": "markdown",
   "metadata": {},
   "source": [
    "## Datastructures\n",
    "\n",
    "Welcome to the second exercise in Einführung in Visual Computing. This exercise gives you a basic knowledge and understanding of python and commonly used libraries. It consists of four parts, each one includes a Jupyter-Notebook as well as a python file where you are expected to contribute the missing functions.\n",
    "\n",
    "The Jupyter Notebook provides the general programm sequence, once everything is implemented, you should see results as described in the main task description."
   ]
  },
  {
   "cell_type": "markdown",
   "metadata": {},
   "source": [
    "The first part is all about numpy, so we will deal with np.arrays. We can define vectors, matrices or even array of higher dimension with numpy. It also provides powerful functionalities of linear algebra as well as mathematical functions. Make sure you check out the numpy documentation in case you want to have a deeper look into it.\n",
    "\n",
    "----"
   ]
  },
  {
   "cell_type": "markdown",
   "metadata": {},
   "source": [
    "First, we import everything we will need to run the code. We will use the package autoreload to reload the changes done in the files automatically. This is followed by the general import commands (import datastructures) to make use of functions defined in datastructures.py \n",
    "\n",
    "You can also import other libraries like e.g., \n",
    "\n",
    "- numpy, commonly used as '''import numpy as np''' enabling us to use numpy functions via np.xxxx\n",
    "- matplotlib, mostly imported as '''import matplotlib.pyplot as plt'''"
   ]
  },
  {
   "cell_type": "code",
   "execution_count": 87,
   "metadata": {},
   "outputs": [
    {
     "name": "stdout",
     "output_type": "stream",
     "text": [
      "The autoreload extension is already loaded. To reload it, use:\n",
      "  %reload_ext autoreload\n"
     ]
    }
   ],
   "source": [
    "%load_ext autoreload\n",
    "%autoreload 1\n",
    "%aimport datastructures\n",
    "import datastructures"
   ]
  },
  {
   "cell_type": "markdown",
   "metadata": {},
   "source": [
    "-----\n",
    "\n",
    "To start our exercise, we first want to define some arrays we are working with. Implement define_structures in the file datastructures. The two vectors v1 and v2 and the matrix M are defined by your matriculation number. (Refer to the task description)\n",
    "\n",
    "Once this is done, we are printing the np.arrays below. They are now in our working space and we can operate on them."
   ]
  },
  {
   "cell_type": "code",
   "execution_count": 107,
   "metadata": {},
   "outputs": [
    {
     "name": "stdout",
     "output_type": "stream",
     "text": [
      "v1 : [2 1 2]\n",
      "v2 : [8 2 0]\n",
      "M : [[2 2 2]\n",
      " [2 3 1]\n",
      " [0 6 8]]\n"
     ]
    }
   ],
   "source": [
    "v1, v2, M = datastructures.define_structures()\n",
    "print(f'v1 : {v1}')\n",
    "print(f'v2 : {v2}')\n",
    "print(f'M : {M}')"
   ]
  },
  {
   "cell_type": "markdown",
   "metadata": {},
   "source": [
    "-----\n",
    "\n",
    "Now, we generate a sequence with step size 0.25 from the minimum and maximum of matrix M. Implement this in the function sequence()."
   ]
  },
  {
   "cell_type": "code",
   "execution_count": 91,
   "metadata": {},
   "outputs": [
    {
     "name": "stdout",
     "output_type": "stream",
     "text": [
      "[0.   0.25 0.5  0.75 1.   1.25 1.5  1.75 2.   2.25 2.5  2.75 3.   3.25\n",
      " 3.5  3.75 4.   4.25 4.5  4.75 5.   5.25 5.5  5.75 6.   6.25 6.5  6.75\n",
      " 7.   7.25 7.5  7.75 8.  ]\n"
     ]
    }
   ],
   "source": [
    "seq = datastructures.sequence(M)\n",
    "print(seq)"
   ]
  },
  {
   "cell_type": "markdown",
   "metadata": {},
   "source": [
    "-----\n",
    "\n",
    "Last but not least, we can also define block matrices or other more complex arrays. Implement the 15x9 matrix we are calling 'mm' down below and check if the output matches the task description!"
   ]
  },
  {
   "cell_type": "code",
   "execution_count": 92,
   "metadata": {},
   "outputs": [
    {
     "name": "stdout",
     "output_type": "stream",
     "text": [
      "(15, 9)\n",
      "[[2. 2. 2. 0. 0. 0. 2. 2. 2.]\n",
      " [2. 3. 1. 0. 0. 0. 2. 3. 1.]\n",
      " [0. 6. 8. 0. 0. 0. 0. 6. 8.]\n",
      " [0. 0. 0. 2. 2. 2. 0. 0. 0.]\n",
      " [0. 0. 0. 2. 3. 1. 0. 0. 0.]\n",
      " [0. 0. 0. 0. 6. 8. 0. 0. 0.]\n",
      " [2. 2. 2. 0. 0. 0. 2. 2. 2.]\n",
      " [2. 3. 1. 0. 0. 0. 2. 3. 1.]\n",
      " [0. 6. 8. 0. 0. 0. 0. 6. 8.]\n",
      " [0. 0. 0. 2. 2. 2. 0. 0. 0.]\n",
      " [0. 0. 0. 2. 3. 1. 0. 0. 0.]\n",
      " [0. 0. 0. 0. 6. 8. 0. 0. 0.]\n",
      " [2. 2. 2. 0. 0. 0. 2. 2. 2.]\n",
      " [2. 3. 1. 0. 0. 0. 2. 3. 1.]\n",
      " [0. 6. 8. 0. 0. 0. 0. 6. 8.]]\n"
     ]
    }
   ],
   "source": [
    "mm = datastructures.matrix(M)\n",
    "print(mm.shape)\n",
    "print(mm)"
   ]
  },
  {
   "attachments": {},
   "cell_type": "markdown",
   "metadata": {},
   "source": [
    "### Implementation of numpy-functions\n",
    "\n",
    "For the next exercise you have to implement some useful functions of numpy yourself, without using the actual numpy functions!\n",
    "\n",
    "First we want to implement the function dot_product(v1,v2) that computes the dot-product of two 3-element vectors. "
   ]
  },
  {
   "cell_type": "code",
   "execution_count": 97,
   "metadata": {},
   "outputs": [
    {
     "name": "stdout",
     "output_type": "stream",
     "text": [
      "18\n"
     ]
    }
   ],
   "source": [
    "dot = datastructures.dot_product(v1,v2)\n",
    "print(dot)"
   ]
  },
  {
   "attachments": {},
   "cell_type": "markdown",
   "metadata": {},
   "source": [
    "----\n",
    "\n",
    "To proceed we are going to implement the function cross_product(v1,v2) that computes the cross-product of two 3-element vectors."
   ]
  },
  {
   "cell_type": "code",
   "execution_count": 108,
   "metadata": {},
   "outputs": [
    {
     "name": "stdout",
     "output_type": "stream",
     "text": [
      "[-4. 16. -4.]\n"
     ]
    }
   ],
   "source": [
    "cross = datastructures.cross_product(v1,v2)\n",
    "print(cross)"
   ]
  },
  {
   "attachments": {},
   "cell_type": "markdown",
   "metadata": {},
   "source": [
    "----\n",
    "\n",
    "Now we want to make the computation more general and replace one vector with a matrix. In this task we are going to implement the function vector_X_matrix(v,M) that multiplies a 3-element vector from the left with a 3x3 matrix."
   ]
  },
  {
   "cell_type": "code",
   "execution_count": 109,
   "metadata": {},
   "outputs": [
    {
     "name": "stdout",
     "output_type": "stream",
     "text": [
      "[10.  9. 22.]\n"
     ]
    }
   ],
   "source": [
    "vec_X_mat = datastructures.vector_X_matrix(v1,M)\n",
    "print(vec_X_mat)"
   ]
  },
  {
   "attachments": {},
   "cell_type": "markdown",
   "metadata": {},
   "source": [
    "----\n",
    "\n",
    "Next we are going to perform a similar multiplication but from the other side. The function matrix_X_vector(v,M) multiplies a 3-element vector from the right with a 3x3 matrix."
   ]
  },
  {
   "cell_type": "code",
   "execution_count": 111,
   "metadata": {},
   "outputs": [
    {
     "name": "stdout",
     "output_type": "stream",
     "text": [
      "[20. 22. 18.]\n"
     ]
    }
   ],
   "source": [
    "mat_X_vec = datastructures.matrix_X_vector(M,v2)\n",
    "print(mat_X_vec)"
   ]
  },
  {
   "attachments": {},
   "cell_type": "markdown",
   "metadata": {},
   "source": [
    "----\n",
    "\n",
    "In this task we are going to replace both vectors with matrices. The function matrix_X_matrix(M1,M2) multiplies two 3x3 matrices. M2 should be multiplied from the left with M1."
   ]
  },
  {
   "cell_type": "code",
   "execution_count": 119,
   "metadata": {},
   "outputs": [
    {
     "name": "stdout",
     "output_type": "stream",
     "text": [
      "[[ 12.  12.  28.]\n",
      " [ 12.  14.  26.]\n",
      " [ 28.  26. 100.]]\n"
     ]
    }
   ],
   "source": [
    "mat_X_mat = datastructures.matrix_X_matrix(M, M.transpose())\n",
    "print(mat_X_mat)"
   ]
  },
  {
   "attachments": {},
   "cell_type": "markdown",
   "metadata": {},
   "source": [
    "----\n",
    "\n",
    "In the end of this exercise we are going to perform a different way of multiplying two matrices. The function matrix_Xc_matrix(M1,M2) multplies the matrices M1 and M2 componentwise (Hadamard-product). Hence, every element of M1 is going to be mulitplied with every element of M2 that has the same coordinate."
   ]
  },
  {
   "cell_type": "code",
   "execution_count": 120,
   "metadata": {},
   "outputs": [
    {
     "name": "stdout",
     "output_type": "stream",
     "text": [
      "[[ 4.  4.  0.]\n",
      " [ 4.  9.  6.]\n",
      " [ 0.  6. 64.]]\n"
     ]
    }
   ],
   "source": [
    "mat_Xc_mat = datastructures.matrix_Xc_matrix(M, M.transpose())\n",
    "print(mat_Xc_mat)"
   ]
  }
 ],
 "metadata": {
  "kernelspec": {
   "display_name": "evc",
   "language": "python",
   "name": "python3"
  },
  "language_info": {
   "codemirror_mode": {
    "name": "ipython",
    "version": 3
   },
   "file_extension": ".py",
   "mimetype": "text/x-python",
   "name": "python",
   "nbconvert_exporter": "python",
   "pygments_lexer": "ipython3",
   "version": "3.10.6"
  },
  "vscode": {
   "interpreter": {
    "hash": "3f784733ad3c34efbccbee5ed4ba41ecb7d693c8882c261a78a6c4cbb0716e58"
   }
  }
 },
 "nbformat": 4,
 "nbformat_minor": 2
}
