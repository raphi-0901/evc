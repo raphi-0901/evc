{
 "cells": [
  {
   "cell_type": "code",
   "execution_count": null,
   "metadata": {},
   "outputs": [],
   "source": [
    "import numpy as np\n",
    "\n",
    "from plyReader import load_transformed_model\n",
    "from Framebuffer import Framebuffer\n",
    "from ClippingPlane import ClippingPlane\n",
    "from MeshVertex import MeshVertex"
   ]
  },
  {
   "attachments": {},
   "cell_type": "markdown",
   "metadata": {},
   "source": [
    "First, we load our mesh and framebuffer. Additionally, we can define clipping planes."
   ]
  },
  {
   "cell_type": "code",
   "execution_count": null,
   "metadata": {},
   "outputs": [],
   "source": [
    "mesh = load_transformed_model('data/star.ply', 800/600)\n",
    "framebuffer = Framebuffer(800, 600)"
   ]
  },
  {
   "cell_type": "code",
   "execution_count": null,
   "metadata": {},
   "outputs": [],
   "source": [
    "planes = [\n",
    "    ClippingPlane([0, 0, 0, 0]),\n",
    "    ClippingPlane([0, 0, 0, 0]),\n",
    "    ClippingPlane([0, 0, 0, 0])\n",
    "]"
   ]
  },
  {
   "attachments": {},
   "cell_type": "markdown",
   "metadata": {},
   "source": [
    "about our mesh interface, properties of the mesh can be accessed via '.'"
   ]
  },
  {
   "cell_type": "code",
   "execution_count": null,
   "metadata": {},
   "outputs": [],
   "source": [
    "print(f'Number of faces: {mesh.num_faces}')      \n",
    "print(f'Number of vertices: {mesh.num_vertices}') \n",
    "\n",
    "# access methods of the mesh like in java\n",
    "mesh.homogenize()"
   ]
  },
  {
   "attachments": {},
   "cell_type": "markdown",
   "metadata": {},
   "source": [
    "static methods of a class are accessed like this"
   ]
  },
  {
   "cell_type": "code",
   "execution_count": null,
   "metadata": {},
   "outputs": [],
   "source": [
    "MeshVertex.mix(1, 5, np.array(0.5))"
   ]
  },
  {
   "attachments": {},
   "cell_type": "markdown",
   "metadata": {},
   "source": [
    "traversing the mesh"
   ]
  },
  {
   "cell_type": "code",
   "execution_count": null,
   "metadata": {},
   "outputs": [],
   "source": [
    "face1 = mesh.get_face(1)         # returns the first face as an MeshFace object\n",
    "v1 = face1.get_vertex(1)         # returns the first vertex of the first face as an MeshVertex object\n",
    "pos1 = v1.get_position()         # returns the position of the vertex above\n",
    "col1 = v1.get_color()            # returns the color of the vertex above\n",
    "\n",
    "print(v1)\n",
    "print(pos1)"
   ]
  },
  {
   "attachments": {},
   "cell_type": "markdown",
   "metadata": {},
   "source": [
    "you can also get more than one face/vertex by using vectors as indices"
   ]
  },
  {
   "cell_type": "code",
   "execution_count": null,
   "metadata": {},
   "outputs": [],
   "source": [
    "faces = mesh.get_face(np.arange(2))      # returns the first 3 faces of the mesh"
   ]
  },
  {
   "attachments": {},
   "cell_type": "markdown",
   "metadata": {},
   "source": [
    "properties and methods can still be accessed in the same way"
   ]
  },
  {
   "cell_type": "code",
   "execution_count": null,
   "metadata": {},
   "outputs": [],
   "source": [
    "verts = faces.get_vertex(np.arange(2)).get_position() # positions of all 3 vertices of the first 3 faces"
   ]
  },
  {
   "attachments": {},
   "cell_type": "markdown",
   "metadata": {},
   "source": [
    "you can also retrieve the number of vertices a face has\n"
   ]
  },
  {
   "cell_type": "code",
   "execution_count": null,
   "metadata": {},
   "outputs": [],
   "source": [
    "print(mesh.faces[0]) # returns the number of vertices of the first face (3 before clipping)"
   ]
  },
  {
   "attachments": {},
   "cell_type": "markdown",
   "metadata": {},
   "source": [
    "with this number you can get all vertices of a face at once (3 before clipping, might be more than 3 after clipping)"
   ]
  },
  {
   "cell_type": "code",
   "execution_count": null,
   "metadata": {},
   "outputs": [],
   "source": [
    "mesh.get_face(0).get_vertex(np.arange(mesh.faces[0])).get_position() # returns positions of all vertices of the first face\n",
    "                                                                     # of course vector indices can be combined as well"
   ]
  },
  {
   "cell_type": "code",
   "execution_count": null,
   "metadata": {},
   "outputs": [],
   "source": [
    "mesh.get_face(np.arange(mesh.num_faces)).get_vertex(np.arange(2)).get_position() # return positions of the first 3 vertices for every face of the mesh"
   ]
  },
  {
   "attachments": {},
   "cell_type": "markdown",
   "metadata": {},
   "source": [
    "The Framebuffer class is used to store the image which contains the rasterized mesh.  a pixel in the framebuffer can be set with the set_pixel method:\n",
    "\n",
    "the third parameter defines the depth and is necessary to determine overlapping regions and to prevent overwriting a pixel which is actually nearer than another one. (parts of objects might hide other objects)"
   ]
  },
  {
   "cell_type": "code",
   "execution_count": null,
   "metadata": {},
   "outputs": [],
   "source": [
    "framebuffer.set_pixel(np.array([10]), np.array([10]), np.array([0]), np.array([1, 0, 0])) # sets pixel with coordinates (1, 1) to red"
   ]
  },
  {
   "attachments": {},
   "cell_type": "markdown",
   "metadata": {},
   "source": [
    "you can also set multiple pixels at once where each entry of the vectors (and row of matrix) defines one pixel\n",
    "\n",
    "in this example all pixels have the depth 0.5\n",
    "pixel 1 with position (1, 1) is colored in red (1, 0, 0)\n",
    "pixel 2 with position (2, 2) is colored in green (0, 1, 0)\n",
    "pixel 3 with position (3, 3) is colored in blue (0, 0, 1):"
   ]
  },
  {
   "cell_type": "code",
   "execution_count": null,
   "metadata": {},
   "outputs": [],
   "source": [
    "framebuffer.set_pixel(np.array([1, 2, 3]), np.array([1, 2, 3]), np.array([0.5, 0.5, 0.5]), np.array([[1, 0, 0], [0, 1, 0], [0, 0, 1]]))"
   ]
  }
 ],
 "metadata": {
  "kernelspec": {
   "display_name": "evc",
   "language": "python",
   "name": "python3"
  },
  "language_info": {
   "codemirror_mode": {
    "name": "ipython",
    "version": 3
   },
   "file_extension": ".py",
   "mimetype": "text/x-python",
   "name": "python",
   "nbconvert_exporter": "python",
   "pygments_lexer": "ipython3",
   "version": "3.8.13"
  },
  "orig_nbformat": 4,
  "vscode": {
   "interpreter": {
    "hash": "55087f26106216e483b628b38bcfc38622ae224ad0592ad021616e6f823b5e6f"
   }
  }
 },
 "nbformat": 4,
 "nbformat_minor": 2
}
